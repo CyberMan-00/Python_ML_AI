{
 "cells": [
  {
   "cell_type": "code",
   "execution_count": 17,
   "id": "8cf15588-fe96-414c-9edd-dba3f580c9e6",
   "metadata": {},
   "outputs": [
    {
     "name": "stdout",
     "output_type": "stream",
     "text": [
      "===Imported packages===\n",
      "pandas: 1.4.4\n",
      "numpy: 1.23.3\n",
      "\n"
     ]
    }
   ],
   "source": [
    "import pandas as pd\n",
    "import numpy as np\n",
    "\n",
    "print(f'''===Imported packages===\n",
    "pandas: {pd.__version__}\n",
    "numpy: {np.__version__}\n",
    "''')"
   ]
  },
  {
   "cell_type": "code",
   "execution_count": null,
   "id": "753cc491-08d8-47a7-99ca-04efe5a57641",
   "metadata": {},
   "outputs": [],
   "source": []
  }
 ],
 "metadata": {
  "kernelspec": {
   "display_name": "Python 3 (ipykernel)",
   "language": "python",
   "name": "python3"
  },
  "language_info": {
   "codemirror_mode": {
    "name": "ipython",
    "version": 3
   },
   "file_extension": ".py",
   "mimetype": "text/x-python",
   "name": "python",
   "nbconvert_exporter": "python",
   "pygments_lexer": "ipython3",
   "version": "3.10.6"
  }
 },
 "nbformat": 4,
 "nbformat_minor": 5
}
